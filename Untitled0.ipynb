{
  "nbformat": 4,
  "nbformat_minor": 0,
  "metadata": {
    "colab": {
      "provenance": [],
      "toc_visible": true,
      "authorship_tag": "ABX9TyNkij8WOYku+WSv5fyU9tTu",
      "include_colab_link": true
    },
    "kernelspec": {
      "name": "python3",
      "display_name": "Python 3"
    },
    "language_info": {
      "name": "python"
    }
  },
  "cells": [
    {
      "cell_type": "markdown",
      "metadata": {
        "id": "view-in-github",
        "colab_type": "text"
      },
      "source": [
        "<a href=\"https://colab.research.google.com/github/Pranav6197/Major-Project/blob/main/Untitled0.ipynb\" target=\"_parent\"><img src=\"https://colab.research.google.com/assets/colab-badge.svg\" alt=\"Open In Colab\"/></a>"
      ]
    },
    {
      "cell_type": "code",
      "execution_count": 2,
      "metadata": {
        "id": "yekthx53wJrh"
      },
      "outputs": [],
      "source": [
        "%pip install -q python-dotenv google-genai"
      ]
    },
    {
      "cell_type": "code",
      "source": [
        "from dotenv import load_dotenv\n",
        "from pathlib import Path\n",
        "import os\n",
        "\n",
        "# If you cloned your repo into a specific folder, cd there first, e.g.:\n",
        "# %cd /content/myrepo\n",
        "\n",
        "env_path = Path.cwd() / \".env\"\n",
        "if not env_path.exists():\n",
        "    raise FileNotFoundError(f\".env not found at {env_path}. Make sure you copied .env.example -> .env locally and added GEMINI_API_KEY in it.\")\n",
        "\n",
        "load_dotenv(dotenv_path=env_path)\n",
        "if \"GEMINI_API_KEY\" not in os.environ:\n",
        "    raise RuntimeError(\"GEMINI_API_KEY missing from .env. Edit .env and add GEMINI_API_KEY=sk-....\")\n",
        "print(\"GEMINI_API_KEY loaded into environment (hidden).\")\n"
      ],
      "metadata": {
        "id": "fuiRJvrF1Il6"
      },
      "execution_count": null,
      "outputs": []
    },
    {
      "cell_type": "code",
      "source": [
        "# Use the already initialized client from previous cells\n",
        "\n",
        "resp = client.models.generate_content(\n",
        "    model=\"gemini-2.5-flash\",\n",
        "    contents=\"how are you\"\n",
        ")\n",
        "print(resp.text)\n"
      ],
      "metadata": {
        "id": "BXfiJXjq5lyc"
      },
      "execution_count": null,
      "outputs": []
    }
  ]
}