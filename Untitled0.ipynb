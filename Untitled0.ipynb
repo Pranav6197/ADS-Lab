{
  "nbformat": 4,
  "nbformat_minor": 0,
  "metadata": {
    "colab": {
      "provenance": [],
      "toc_visible": true,
      "authorship_tag": "ABX9TyOm57AyNCw7fH89xPhX76AD",
      "include_colab_link": true
    },
    "kernelspec": {
      "name": "python3",
      "display_name": "Python 3"
    },
    "language_info": {
      "name": "python"
    }
  },
  "cells": [
    {
      "cell_type": "markdown",
      "metadata": {
        "id": "view-in-github",
        "colab_type": "text"
      },
      "source": [
        "<a href=\"https://colab.research.google.com/github/Pranav6197/Major-Project/blob/main/Untitled0.ipynb\" target=\"_parent\"><img src=\"https://colab.research.google.com/assets/colab-badge.svg\" alt=\"Open In Colab\"/></a>"
      ]
    },
    {
      "cell_type": "code",
      "execution_count": 2,
      "metadata": {
        "id": "yekthx53wJrh"
      },
      "outputs": [],
      "source": [
        "%pip install -q python-dotenv google-genai"
      ]
    },
    {
      "cell_type": "code",
      "source": [
        "%pip install -q google-genai\n",
        "\n",
        "# --- Paste your key below (replace the placeholder) ---\n",
        "API_KEY = \"YOUR_REAL_KEY_HERE\"\n",
        "\n",
        "from google import genai\n",
        "\n",
        "client = genai.Client(api_key=API_KEY)\n",
        "\n",
        "\n",
        "try:\n",
        "    resp = client.models.generate_content(\n",
        "        model=\"gemini-2.5-flash\",\n",
        "        contents=\"Explain how AI works in a few words\"\n",
        "    )\n",
        "    print(resp.text)\n",
        "except Exception as e:\n",
        "    print(\"Request failed:\", type(e).__name__, str(e))\n"
      ],
      "metadata": {
        "id": "fuiRJvrF1Il6",
        "colab": {
          "base_uri": "https://localhost:8080/"
        },
        "outputId": "c3f808b0-2480-4d34-8b2a-4ae63bd02501"
      },
      "execution_count": 6,
      "outputs": [
        {
          "output_type": "stream",
          "name": "stdout",
          "text": [
            "AI learns patterns from data to make intelligent decisions.\n"
          ]
        }
      ]
    }
  ]
}